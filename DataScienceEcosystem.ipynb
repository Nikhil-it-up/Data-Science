{
 "cells": [
  {
   "cell_type": "markdown",
   "id": "a5864d23-a6d9-407a-9c04-4b31c3cb9cfa",
   "metadata": {},
   "source": [
    "# Peer-graded Assignment of Tools for Data Science :"
   ]
  },
  {
   "cell_type": "markdown",
   "id": "0a4f037f-c5eb-4dd7-83f0-c0f2c71d9e5d",
   "metadata": {},
   "source": [
    "## There are a total of 25 points possible for this final project.\r\n",
    "Exercise 1 - Create a jupyter notebook\n",
    ":\r\n",
    "\r\n",
    "Exercise 2 - Create a markdown cell with the title of the notebook. (1 pt)\r\n",
    "\r\n",
    "Exercise 3 - Create a markdown cell for an introduction. (1 pt)\r\n",
    "\r\n",
    "Exercise 4 - Create a markdown cell to list data science languages. (3 pts)\r\n",
    "\r\n",
    "Exercise 5 - Create a markdown cell to list data science libraries. (3 pts)\r\n",
    "\r\n",
    "Exercise 6 - Create a markdown cell with a table of Data Science tools. (3 pts)\r\n",
    "\r\n",
    "Exercise 7 - Create a markdown cell introducing arithmetic expression examples. (1 pt)\r\n",
    "\r\n",
    "Exercise 8 - Create a code cell to multiply and add numbers. (2 pts)\r\n",
    "\r\n",
    "Exercise 9 - Create a code cell to convert minutes to hours. (2 pts)\r\n",
    "\r\n",
    "Exercise 10 -Insert a markdown cell to list Objectives. (3 pts)\r\n",
    "\r\n",
    "Exercise 11 - Create a markdown cell to indicate the \n",
    "\n",
    "Exercise 12 - Share your notebook through GitHub (3 pts)\r\n",
    "\r\n",
    "Exercise 13 - Take a screenshot of the first page of the notebook. (1 pt)Author’s name. (2 pts)"
   ]
  },
  {
   "cell_type": "markdown",
   "id": "a623a4f7-6b5d-4314-a283-841c256c31b4",
   "metadata": {},
   "source": [
    "## Exercise 1: Create a Jupyter Notebook\n",
    "\n",
    "Create a new Jupyter notebook called DataScienceEcosystem.ipynb"
   ]
  },
  {
   "cell_type": "markdown",
   "id": "eb559c8f-c512-468b-8a0f-cc51af2efa67",
   "metadata": {},
   "source": [
    "## Exercise 2: Create markdown cell with title of the notebook\n",
    "\n",
    "# Data Science Tools and Ecosystem"
   ]
  },
  {
   "cell_type": "markdown",
   "id": "ca2bb8d4-e0c0-41f3-b93b-e3ba6e69f51a",
   "metadata": {},
   "source": [
    "## Exercise 3 - Create a markdown cell for an introduction\n",
    "\n",
    "In this notebook, we summarize various tools and components that make up the Data Science ecosystem. Data Science involves a combination of disciplines, including statistics, machine learning, data processing, and visualization. This ecosystem provides tools and resources to support the entire data lifecycle—from data collection to building machine learning models to deploying solutions"
   ]
  },
  {
   "cell_type": "markdown",
   "id": "9a39f583-d633-4c3e-a58d-98f0878af285",
   "metadata": {},
   "source": [
    "### Objectives\n",
    "1) List of common used Languages in data science\n",
    "2) List of common used libraries in data science\n",
    "3) List of common tools used by data scientist  "
   ]
  },
  {
   "cell_type": "markdown",
   "id": "bb6a3876-1795-4b1a-b056-a170b75b17ee",
   "metadata": {},
   "source": [
    "## Exercise 4 - Create a markdown cell to list data science languages\n",
    "\n",
    "1) Python\n",
    "2) R\n",
    "3) SQL\n",
    "4) JAVA\n",
    "5) JULIA\n",
    "6) C/C++\n",
    "7) JAVASCRIPT\n",
    "8) SCALA"
   ]
  },
  {
   "cell_type": "markdown",
   "id": "ef3ccd50-7c64-4900-90cf-2f080053878f",
   "metadata": {},
   "source": [
    "## Exercise 5 - Create a markdown cell to list data science libraries\n",
    "1) TensorFlow\n",
    "2) NumPy\n",
    "3) SciPy\n",
    "4) Matplotlib\n",
    "5) Pandas\n",
    "6) PyBrain\n",
    "7) PyTorch\n",
    "8) SciKit-Learn\n",
    "9) Keras"
   ]
  },
  {
   "cell_type": "markdown",
   "id": "7f971d21-1700-4189-86c6-3618c82d5b69",
   "metadata": {},
   "source": [
    "## Exercise 6 - Create a markdown cell with a table of Data Science tools\n",
    "1) Apache Spark\n",
    "2) MatLab\n",
    "3) Tableau\n",
    "4) BigML\n",
    "5) SAS\n",
    "6) PowerBI\n",
    "7) Apache Hadoop"
   ]
  },
  {
   "cell_type": "markdown",
   "id": "79ba68ec-8c5c-4cdf-9452-124459c171fb",
   "metadata": {},
   "source": [
    "## Exercise 7 - Create a markdown cell introducing arithmetic expression examples\n",
    "\r\n",
    "## Introduction to Arithmetic Expressions\r\n",
    "\r\n",
    "Arithmetic expressions allow us to perform mathematical operations using numbers and symbols. In programming, arithmetic expressions are fundamental as they enable us to carry out calculations, assignments, and other operations. Here are some basic examples of arithmetic expressions:\r\n",
    "\r\n",
    "- **Addition (`+`)**: Adds two values.  \r\n",
    "  Example: `5 + 3` results in `8`.\r\n",
    "\r\n",
    "- **Subtraction (`-`)**: Subtracts one value from another.  \r\n",
    "  Example: `10 - 4` results in `6`.\r\n",
    "\r\n",
    "- **Multiplication (`*`)**: Multiplies two values.  \r\n",
    "  Example: `7 * 2` results in `14`.\r\n",
    "\r\n",
    "- **Division (`/`)**: Divides one value by another.  \r\n",
    "  Example: `12 / 3` results in `4`.\r\n",
    "\r\n",
    "- **Exponentiation (`**`)**: Raises a number to the power of another.  \r\n",
    "  Example: `2 ** 3` results in `8`.\r\n",
    "\r\n",
    "- **Modulo (`%`)**: Finds the remainder when one value is divided by another.  \r\n",
    "  Example: `10nd problem-solving.\r\n",
    "```"
   ]
  },
  {
   "cell_type": "markdown",
   "id": "97d3f4bf-3097-4d09-b721-fbacf82fe061",
   "metadata": {},
   "source": [
    "## Exercise 8 - Create a code cell to multiply and add numbers\n",
    "This a simple arithmetic expression to mutiply then add integers"
   ]
  },
  {
   "cell_type": "code",
   "execution_count": 48,
   "id": "326bc763-4e95-43a5-bd21-9754d73ad76e",
   "metadata": {},
   "outputs": [
    {
     "data": {
      "text/plain": [
       "17"
      ]
     },
     "execution_count": 48,
     "metadata": {},
     "output_type": "execute_result"
    }
   ],
   "source": [
    "(3*4)+5"
   ]
  },
  {
   "cell_type": "markdown",
   "id": "1ba4ed41-0efc-48cc-915b-74fa806a6f34",
   "metadata": {},
   "source": [
    "## Exercise 9 - Create a code cell to convert minutes to hours\n",
    "This will convert 200 minutes to hours by diving by 60"
   ]
  },
  {
   "cell_type": "code",
   "execution_count": 59,
   "id": "77068256-46af-4979-bd10-817630c66dac",
   "metadata": {},
   "outputs": [
    {
     "name": "stdout",
     "output_type": "stream",
     "text": [
      "3.3333333333333335 hours, \n"
     ]
    }
   ],
   "source": [
    "minutes = 200\n",
    "hours = minutes / 60\n",
    "print(str(hours) + \" hours, \")"
   ]
  },
  {
   "cell_type": "markdown",
   "id": "1be35124-9272-4767-b01b-2d11fe06d313",
   "metadata": {},
   "source": [
    "## Exercise 10 - Insert a markdown cell to list Objectives\n",
    "Below the introduction cell created in Exercise 3, insert a new markdown cell to list the objectives that this notebook covered (i.e. some of the key takeaways from the course). In this new cell start with an introductory line titled: Objectives: in bold font. Then using an unordered list (bullets) indicate 3 to 5 items covered in this notebook, such as List popular languages for Data Science."
   ]
  },
  {
   "cell_type": "markdown",
   "id": "fd498442-b738-4696-91ff-c09a49695d41",
   "metadata": {},
   "source": [
    "## Exercise 11 - Create a markdown cell to indicate the Author's name"
   ]
  },
  {
   "cell_type": "markdown",
   "id": "5c456223-b7eb-4c5f-8ce7-055ffae8b9de",
   "metadata": {},
   "source": [
    "## Author:\n",
    "Nikhil Arya"
   ]
  },
  {
   "cell_type": "code",
   "execution_count": null,
   "id": "e07175c3-7eda-49b1-aaf2-35f99d93ddfb",
   "metadata": {},
   "outputs": [],
   "source": []
  }
 ],
 "metadata": {
  "kernelspec": {
   "display_name": "Python 3 (ipykernel)",
   "language": "python",
   "name": "python3"
  },
  "language_info": {
   "codemirror_mode": {
    "name": "ipython",
    "version": 3
   },
   "file_extension": ".py",
   "mimetype": "text/x-python",
   "name": "python",
   "nbconvert_exporter": "python",
   "pygments_lexer": "ipython3",
   "version": "3.12.4"
  }
 },
 "nbformat": 4,
 "nbformat_minor": 5
}
